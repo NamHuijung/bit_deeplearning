{
 "cells": [
  {
   "cell_type": "markdown",
   "id": "f550da02",
   "metadata": {},
   "source": [
    "# 선형 회귀 실습"
   ]
  },
  {
   "cell_type": "code",
   "execution_count": 1,
   "id": "00bf6f66",
   "metadata": {},
   "outputs": [],
   "source": [
    "import numpy as np\n",
    "\n",
    "# x 값과 y 값\n",
    "x = [2, 4, 6, 8] # 공부한 시간\n",
    "y = [81, 93, 91, 97] # 시험 점수"
   ]
  },
  {
   "cell_type": "code",
   "execution_count": 2,
   "id": "5f7a01c1",
   "metadata": {},
   "outputs": [
    {
     "name": "stdout",
     "output_type": "stream",
     "text": [
      "x의 평균 5.0\n",
      "y의 평군 90.5\n"
     ]
    }
   ],
   "source": [
    "# x와 y의 평균값\n",
    "mx = np.mean(x)\n",
    "my = np.mean(y)\n",
    "\n",
    "print(f'x의 평균 {mx}')\n",
    "print(f'y의 평군 {my}')"
   ]
  },
  {
   "cell_type": "code",
   "execution_count": 9,
   "id": "e2deb649",
   "metadata": {},
   "outputs": [
    {
     "name": "stdout",
     "output_type": "stream",
     "text": [
      "분모 : 20.0\n"
     ]
    }
   ],
   "source": [
    "# 기울기 공식의 분모\n",
    "divisor = sum([(mx - i) ** 2 for i in x])\n",
    "\n",
    "print(f'분모 : {divisor}')"
   ]
  },
  {
   "cell_type": "code",
   "execution_count": 10,
   "id": "90164486",
   "metadata": {},
   "outputs": [
    {
     "name": "stdout",
     "output_type": "stream",
     "text": [
      "분자 : 46.0\n"
     ]
    }
   ],
   "source": [
    "# 기울기 공식의 분자\n",
    "def top(x, mx, y, my):\n",
    "    d = 0\n",
    "    for i in range(len(x)):\n",
    "        d += (x[i] - mx) * (y[i] - my)\n",
    "    \n",
    "    return d\n",
    "\n",
    "dividend = top(x, mx, y, my)\n",
    "\n",
    "print(f'분자 : {dividend}')"
   ]
  },
  {
   "cell_type": "code",
   "execution_count": 11,
   "id": "72256c22",
   "metadata": {},
   "outputs": [],
   "source": [
    "# 기울기와 y 절편 구하기\n",
    "a = dividend / divisor\n",
    "b = my - (mx * a)"
   ]
  },
  {
   "cell_type": "code",
   "execution_count": 12,
   "id": "e3829c22",
   "metadata": {},
   "outputs": [
    {
     "name": "stdout",
     "output_type": "stream",
     "text": [
      "기울기 : 2.3\n",
      "y 절편 : 79.0\n"
     ]
    }
   ],
   "source": [
    "# 출력으로 확인\n",
    "print('기울기 :', a)\n",
    "print('y 절편 :', b)"
   ]
  },
  {
   "cell_type": "markdown",
   "id": "58270163",
   "metadata": {},
   "source": [
    "# 선형 회귀 실습 2"
   ]
  },
  {
   "cell_type": "code",
   "execution_count": 1,
   "id": "c9265b83",
   "metadata": {},
   "outputs": [],
   "source": [
    "import numpy as np"
   ]
  },
  {
   "cell_type": "code",
   "execution_count": 2,
   "id": "8cf0838d",
   "metadata": {},
   "outputs": [],
   "source": [
    "# 기울기 a와 y 절편 b\n",
    "fake_a_b = [3, 76]\n",
    "\n",
    "# x, y의 데이터 값\n",
    "data = [[2, 81], [4, 93], [6, 91], [8, 97]]\n",
    "x = [i[0] for i in data]\n",
    "y = [i[1] for i in data]"
   ]
  },
  {
   "cell_type": "code",
   "execution_count": 3,
   "id": "24ee5cff",
   "metadata": {},
   "outputs": [],
   "source": [
    "# y=ax+b에 a와 b 값을 대입하여 결과를 출력하는 함수\n",
    "def predict(x):\n",
    "    return fake_a_b[0] * x + fake_a_b[1]\n",
    "\n",
    "# MSE 함수\n",
    "def mse(y, y_hat):\n",
    "    return ((y-y_hat) ** 2).mean()\n",
    "\n",
    "# MSE 함수를 각 y 값에 대입하여 최종 값을 구하는 함수\n",
    "def mse_val(y, predict_result):\n",
    "    return mse(np.array(y), np.array(predict_result))"
   ]
  },
  {
   "cell_type": "code",
   "execution_count": 4,
   "id": "3da3eee9",
   "metadata": {},
   "outputs": [
    {
     "name": "stdout",
     "output_type": "stream",
     "text": [
      "공부한 시간=2, 실제 점수=81, 예측 점수=82\n",
      "공부한 시간=4, 실제 점수=93, 예측 점수=88\n",
      "공부한 시간=6, 실제 점수=91, 예측 점수=94\n",
      "공부한 시간=8, 실제 점수=97, 예측 점수=100\n"
     ]
    }
   ],
   "source": [
    "# 예측 값이 들어갈 빈 리스트\n",
    "predict_result = []\n",
    "\n",
    "# 모든 x 값을 한 번씩 대입하여\n",
    "for i in range(len(x)):\n",
    "    # predict_result 리스트를 완성\n",
    "    predict_result.append(predict(x[i]))\n",
    "    print(\"공부한 시간=%.f, 실제 점수=%.f, 예측 점수=%.f\" % (x[i], y[i], predict(x[i])))"
   ]
  },
  {
   "cell_type": "code",
   "execution_count": 5,
   "id": "67ef425b",
   "metadata": {},
   "outputs": [
    {
     "name": "stdout",
     "output_type": "stream",
     "text": [
      "mse 최종값 : 11.0\n"
     ]
    }
   ],
   "source": [
    "# 최종 MSE 출력\n",
    "print('mse 최종값 : ' + str(mse_val(predict_result, y)))"
   ]
  },
  {
   "cell_type": "markdown",
   "id": "3522d2e2",
   "metadata": {},
   "source": [
    "# 경사 하강법 실습"
   ]
  },
  {
   "cell_type": "code",
   "execution_count": 7,
   "id": "14d0a08a",
   "metadata": {},
   "outputs": [],
   "source": [
    "import numpy as np\n",
    "import pandas as pd\n",
    "import matplotlib.pyplot as plt"
   ]
  },
  {
   "cell_type": "code",
   "execution_count": 8,
   "id": "dca38fc5",
   "metadata": {},
   "outputs": [],
   "source": [
    "# 공부한 시간 X와 Y의 리스트를 만들기\n",
    "data = [[2, 81], [4, 93], [6, 91], [8, 97]]\n",
    "x = [i[0] for i in data]\n",
    "y = [i[1] for i in data]"
   ]
  },
  {
   "cell_type": "code",
   "execution_count": 9,
   "id": "b32ee1e5",
   "metadata": {},
   "outputs": [
    {
     "data": {
      "image/png": "[encoded data removed]",
      "text/plain": [
       "<Figure size 576x360 with 1 Axes>"
      ]
     },
     "metadata": {
      "needs_background": "light"
     },
     "output_type": "display_data"
    }
   ],
   "source": [
    "# 그래프로 나타내기\n",
    "plt.figure(figsize=(8, 5))\n",
    "plt.scatter(x, y)\n",
    "plt.show()"
   ]
  },
  {
   "cell_type": "code",
   "execution_count": 10,
   "id": "b8e3dd97",
   "metadata": {},
   "outputs": [],
   "source": [
    "# 리스트로 되어 있는 x와 y 값을 넘파이 배열로 바꾸기\n",
    "# 인덱스를 주어 하나씩 불러와 계산이 가능하게 하기 위함\n",
    "x_data = np.array(x)\n",
    "y_data = np.array(y)"
   ]
  },
  {
   "cell_type": "code",
   "execution_count": 13,
   "id": "32fae49d",
   "metadata": {},
   "outputs": [],
   "source": [
    "# 기울기 a와 절편 b의 값 초기화\n",
    "a = 0\n",
    "b = 0\n",
    "\n",
    "# 학습률 정하기 \n",
    "lr = 0.03\n",
    "\n",
    "# 몇 번 반복될지 설정\n",
    "epochs = 2001"
   ]
  },
  {
   "cell_type": "code",
   "execution_count": 14,
   "id": "492192e0",
   "metadata": {},
   "outputs": [
    {
     "name": "stdout",
     "output_type": "stream",
     "text": [
      "epoch=0, 기울기=27.8400, 절편=5.4300\n",
      "epoch=100, 기울기=7.0739, 절편=50.5117\n",
      "epoch=200, 기울기=4.0960, 절편=68.2822\n",
      "epoch=300, 기울기=2.9757, 절편=74.9678\n",
      "epoch=400, 기울기=2.5542, 절편=77.4830\n",
      "epoch=500, 기울기=2.3956, 절편=78.4293\n",
      "epoch=600, 기울기=2.3360, 절편=78.7853\n",
      "epoch=700, 기울기=2.3135, 절편=78.9192\n",
      "epoch=800, 기울기=2.3051, 절편=78.9696\n",
      "epoch=900, 기울기=2.3019, 절편=78.9886\n",
      "epoch=1000, 기울기=2.3007, 절편=78.9957\n",
      "epoch=1100, 기울기=2.3003, 절편=78.9984\n",
      "epoch=1200, 기울기=2.3001, 절편=78.9994\n",
      "epoch=1300, 기울기=2.3000, 절편=78.9998\n",
      "epoch=1400, 기울기=2.3000, 절편=78.9999\n",
      "epoch=1500, 기울기=2.3000, 절편=79.0000\n",
      "epoch=1600, 기울기=2.3000, 절편=79.0000\n",
      "epoch=1700, 기울기=2.3000, 절편=79.0000\n",
      "epoch=1800, 기울기=2.3000, 절편=79.0000\n",
      "epoch=1900, 기울기=2.3000, 절편=79.0000\n",
      "epoch=2000, 기울기=2.3000, 절편=79.0000\n"
     ]
    }
   ],
   "source": [
    "# 경사 하강법 시작\n",
    "for i in range(epochs): # 에포크 수만큼 반복\n",
    "    y_pred = a * x_data + b # 오차 함수인 y=ax+b를 정의한 부분\n",
    "    error = y_data - y_pred # 실제값 - 예측값, 즉 오차를 구하는 식\n",
    "    \n",
    "    # 오차 함수(평균 제곱 오차)를 a로 미분한 값\n",
    "    a_diff = -(2/len(x_data)) * sum(x_data * error)\n",
    "    # 오차 함수(평균 제곱 오차)를 b로 미분한 값\n",
    "    b_diff = -(2/len(x_data)) * sum(error)\n",
    "    \n",
    "    a = a - lr * a_diff # 학습률을 곱해 기존의 a 값 업데이트\n",
    "    b = b - lr * b_diff # 학습률을 곱해 기존의 b 값 업데이트\n",
    "    \n",
    "    if i % 100 == 0:\n",
    "        print(\"epoch=%.f, 기울기=%.04f, 절편=%.04f\" % (i, a, b))"
   ]
  },
  {
   "cell_type": "code",
   "execution_count": 15,
   "id": "c0aa03d7",
   "metadata": {},
   "outputs": [
    {
     "data": {
      "image/png": "[encoded data removed]",
      "text/plain": [
       "<Figure size 432x288 with 1 Axes>"
      ]
     },
     "metadata": {
      "needs_background": "light"
     },
     "output_type": "display_data"
    }
   ],
   "source": [
    "# 앞서 구한 기울기와 절편을 이용해 그래프를 다시 그리기\n",
    "y_pred = a * x_data + b\n",
    "plt.scatter(x, y)\n",
    "plt.plot([min(x_data), max(x_data)], [min(y_pred), max(y_pred)])\n",
    "plt.show()"
   ]
  },
  {
   "cell_type": "markdown",
   "id": "969364fc",
   "metadata": {},
   "source": [
    "# 다중 선형 회귀 실습"
   ]
  },
  {
   "cell_type": "code",
   "execution_count": 16,
   "id": "98f0c02c",
   "metadata": {},
   "outputs": [],
   "source": [
    "import numpy as np\n",
    "import pandas as pd\n",
    "import matplotlib.pyplot as plt\n",
    "from mpl_toolkits import mplot3d # 3D 그래프 그리는 라이브러리"
   ]
  },
  {
   "cell_type": "code",
   "execution_count": 33,
   "id": "4591fb25",
   "metadata": {},
   "outputs": [],
   "source": [
    "# 공부한 시간 X와 Y의 리스트 만들기\n",
    "data = [[2, 0, 81], [4, 4, 93], [6, 2, 91], [8, 3, 97]]\n",
    "x1 = [i[0] for i in data]\n",
    "x2 = [i[1] for i in data]\n",
    "y = [i[2] for i in data]"
   ]
  },
  {
   "cell_type": "code",
   "execution_count": 34,
   "id": "a10854ce",
   "metadata": {},
   "outputs": [
    {
     "data": {
      "image/png": "[encoded data removed]",
      "text/plain": [
       "<Figure size 432x288 with 1 Axes>"
      ]
     },
     "metadata": {
      "needs_background": "light"
     },
     "output_type": "display_data"
    }
   ],
   "source": [
    "# 그래프로 확인\n",
    "ax = plt.axes(projection='3d') # 그래프 유형 정하기\n",
    "ax.set_xlabel('study_hours')\n",
    "ax.set_ylabel('private_class')\n",
    "ax.set_zlabel('Score')\n",
    "ax.dist = 11\n",
    "ax.scatter(x1, x2, y)\n",
    "plt.show()"
   ]
  },
  {
   "cell_type": "code",
   "execution_count": 35,
   "id": "5d82136b",
   "metadata": {},
   "outputs": [],
   "source": [
    "# 리스트로 되어 있는 x와 y 값을 넘파이 배열로 바꾸기\n",
    "# 인덱스를 주어 하나씩 불러와 계산이 가능하게 하기 위함\n",
    "x1_data = np.array(x1)\n",
    "x2_data = np.array(x2)\n",
    "y_data = np.array(y)"
   ]
  },
  {
   "cell_type": "code",
   "execution_count": 36,
   "id": "bf701100",
   "metadata": {},
   "outputs": [],
   "source": [
    "# 기울기 a와 절편 b의 값 초기화\n",
    "a1 = 0\n",
    "a2 = 0\n",
    "b = 0\n",
    "\n",
    "# 학습률 정하기 \n",
    "lr = 0.02\n",
    "\n",
    "# 몇 번 반복될지 설정\n",
    "# 0부터 세므로 원하는 반복 횟수에 +1\n",
    "epochs = 2001"
   ]
  },
  {
   "cell_type": "code",
   "execution_count": 37,
   "id": "2ae94e91",
   "metadata": {},
   "outputs": [
    {
     "name": "stdout",
     "output_type": "stream",
     "text": [
      "epoch=0,기울기1=18.5600, 기울기2=8.4500, 절편=3.6200\n",
      "epoch=100,기울기1=7.2994, 기울기2=4.2867, 절편=38.0427\n",
      "epoch=200,기울기1=4.5683, 기울기2=3.3451, 절편=56.7901\n",
      "epoch=300,기울기1=3.1235, 기울기2=2.8463, 절편=66.7100\n",
      "epoch=400,기울기1=2.3591, 기울기2=2.5823, 절편=71.9589\n",
      "epoch=500,기울기1=1.9546, 기울기2=2.4427, 절편=74.7362\n",
      "epoch=600,기울기1=1.7405, 기울기2=2.3688, 절편=76.2058\n",
      "epoch=700,기울기1=1.6273, 기울기2=2.3297, 절편=76.9833\n",
      "epoch=800,기울기1=1.5673, 기울기2=2.3090, 절편=77.3948\n",
      "epoch=900,기울기1=1.5356, 기울기2=2.2980, 절편=77.6125\n",
      "epoch=1000,기울기1=1.5189, 기울기2=2.2922, 절편=77.7277\n",
      "epoch=1100,기울기1=1.5100, 기울기2=2.2892, 절편=77.7886\n",
      "epoch=1200,기울기1=1.5053, 기울기2=2.2875, 절편=77.8209\n",
      "epoch=1300,기울기1=1.5028, 기울기2=2.2867, 절편=77.8380\n",
      "epoch=1400,기울기1=1.5015, 기울기2=2.2862, 절편=77.8470\n",
      "epoch=1500,기울기1=1.5008, 기울기2=2.2860, 절편=77.8518\n",
      "epoch=1600,기울기1=1.5004, 기울기2=2.2859, 절편=77.8543\n",
      "epoch=1700,기울기1=1.5002, 기울기2=2.2858, 절편=77.8556\n",
      "epoch=1800,기울기1=1.5001, 기울기2=2.2858, 절편=77.8563\n",
      "epoch=1900,기울기1=1.5001, 기울기2=2.2857, 절편=77.8567\n",
      "epoch=2000,기울기1=1.5000, 기울기2=2.2857, 절편=77.8569\n"
     ]
    }
   ],
   "source": [
    "# 경사 하강법 시작\n",
    "for i in range(epochs): # 에포크 수만큼 반복\n",
    "    y_pred = a1 * x1_data + a2 * x2_data + b # 오차 함수인 y=a1x1 + a2x2 + b를 정의한 부분\n",
    "    error = y_data - y_pred # 실제값 - 예측값, 즉 오차를 구하는 식\n",
    "    \n",
    "    # 오차 함수(평균 제곱 오차)를 a1로 미분한 값\n",
    "    a1_diff = -(2/len(x1_data)) * sum(x1_data * error)\n",
    "    # 오차 함수(평균 제곱 오차)를 a2로 미분한 값\n",
    "    a2_diff = -(2/len(x2_data)) * sum(x2_data * error)\n",
    "    # 오차 함수(평균 제곱 오차)를 b로 미분한 값\n",
    "    b_diff = -(2/len(x1_data)) * sum(error)\n",
    "    \n",
    "    a1 = a1 - lr * a1_diff # 학습률을 곱해 기존의 a1 값 업데이트\n",
    "    a2 = a2 - lr * a2_diff # 학습률을 곱해 기존의 a2 값 업데이트\n",
    "    b = b - lr * b_diff # 학습률을 곱해 기존의 b 값 업데이트\n",
    "    \n",
    "    if i % 100 == 0:\n",
    "        print(\"epoch=%.f,기울기1=%.04f, 기울기2=%.04f, 절편=%.04f\" % (i, a1, a2, b))"
   ]
  },
  {
   "cell_type": "markdown",
   "id": "d2c78e7a",
   "metadata": {},
   "source": [
    "# 코딩으로 확인하는 로지스틱 회귀"
   ]
  },
  {
   "cell_type": "code",
   "execution_count": 23,
   "id": "53407e6b",
   "metadata": {},
   "outputs": [],
   "source": [
    "import numpy as np\n",
    "import pandas as pd\n",
    "import matplotlib.pyplot as plt"
   ]
  },
  {
   "cell_type": "code",
   "execution_count": 24,
   "id": "80d1c603",
   "metadata": {},
   "outputs": [],
   "source": [
    "# 공부한 시간 X와 합격 여부 Y의 리스트 만들기\n",
    "data = [[2, 0], [4, 0], [6, 0], [8, 1], [10, 1], [12, 1], [14, 1]]\n",
    "\n",
    "x_data = [i[0] for i in data]\n",
    "y_data = [i[1] for i in data]"
   ]
  },
  {
   "cell_type": "code",
   "execution_count": 25,
   "id": "f4163b78",
   "metadata": {},
   "outputs": [
    {
     "data": {
      "text/plain": [
       "(-0.1, 1.1)"
      ]
     },
     "execution_count": 25,
     "metadata": {},
     "output_type": "execute_result"
    },
    {
     "data": {
      "image/png": "[encoded data removed]",
      "text/plain": [
       "<Figure size 432x288 with 1 Axes>"
      ]
     },
     "metadata": {
      "needs_background": "light"
     },
     "output_type": "display_data"
    }
   ],
   "source": [
    "# 그래프로 나타내기\n",
    "plt.scatter(x_data, y_data)\n",
    "plt.xlim(0, 15)\n",
    "plt.ylim(-.1, 1.1)"
   ]
  },
  {
   "cell_type": "code",
   "execution_count": 26,
   "id": "54ccd92e",
   "metadata": {},
   "outputs": [],
   "source": [
    "# 기울기 a와 절편 b의 값 초기화\n",
    "a, b = 0, 0\n",
    "\n",
    "# 학습률\n",
    "lr = 0.05"
   ]
  },
  {
   "cell_type": "code",
   "execution_count": 27,
   "id": "85aef6a1",
   "metadata": {},
   "outputs": [
    {
     "name": "stdout",
     "output_type": "stream",
     "text": [
      "[2, 4, 6, 8, 10, 12, 14] [0, 0, 0, 1, 1, 1, 1]\n"
     ]
    }
   ],
   "source": [
    "print(x_data, y_data)"
   ]
  },
  {
   "cell_type": "code",
   "execution_count": 28,
   "id": "fb298a48",
   "metadata": {
    "scrolled": true
   },
   "outputs": [
    {
     "name": "stdout",
     "output_type": "stream",
     "text": [
      "epoch=0, 기울기=-0.0500, 절편=-0.0250\n",
      "epoch=0, 기울기=-0.1388, 절편=-0.0472\n",
      "epoch=0, 기울기=-0.2268, 절편=-0.0619\n",
      "epoch=0, 기울기=0.1201, 절편=-0.0185\n",
      "epoch=0, 기울기=0.2374, 절편=-0.0068\n",
      "epoch=0, 기울기=0.2705, 절편=-0.0040\n",
      "epoch=0, 기울기=0.2860, 절편=-0.0029\n",
      "epoch=1000, 기울기=1.4978, 절편=-9.9401\n",
      "epoch=1000, 기울기=1.4940, 절편=-9.9411\n",
      "epoch=1000, 기울기=1.4120, 절편=-9.9547\n",
      "epoch=1000, 기울기=1.4949, 절편=-9.9444\n",
      "epoch=1000, 기울기=1.4982, 절편=-9.9440\n",
      "epoch=1000, 기울기=1.4984, 절편=-9.9440\n",
      "epoch=1000, 기울기=1.4985, 절편=-9.9440\n",
      "epoch=2000, 기울기=1.9065, 절편=-12.9489\n",
      "epoch=2000, 기울기=1.9055, 절편=-12.9491\n",
      "epoch=2000, 기울기=1.8515, 절편=-12.9581\n",
      "epoch=2000, 기울기=1.9057, 절편=-12.9514\n",
      "epoch=2000, 기울기=1.9068, 절편=-12.9513\n",
      "epoch=2000, 기울기=1.9068, 절편=-12.9513\n",
      "epoch=2000, 기울기=1.9068, 절편=-12.9513\n"
     ]
    }
   ],
   "source": [
    "# 시그모이드 함수 정의\n",
    "def sigmoid(x):\n",
    "    return 1 / (1 + np.e ** (-x))\n",
    "\n",
    "# 경사하강법 실행\n",
    "# 1000번 반복될 때마다 각 x_data 값에 대한 현재의 a 값, b 값 출력\n",
    "for i in range(2001): \n",
    "    for x_data, y_data in data:\n",
    "        \n",
    "        # a에 관한 편미분, 앞서 정의한 sigmoid 함수 사용\n",
    "        a_diff = x_data * (sigmoid(a * x_data + b) - y_data)\n",
    "        # b에 관한 편미분\n",
    "        b_diff = sigmoid(a * x_data + b) - y_data\n",
    "    \n",
    "        a = a - lr * a_diff # 학습률을 곱해 기존의 a 값 업데이트\n",
    "        b = b - lr * b_diff # 학습률을 곱해 기존의 b 값 업데이트\n",
    "    \n",
    "        if i % 1000 == 0:\n",
    "            print(\"epoch=%.f, 기울기=%.04f, 절편=%.04f\" % (i, a, b))"
   ]
  },
  {
   "cell_type": "code",
   "execution_count": 29,
   "id": "0235743c",
   "metadata": {},
   "outputs": [
    {
     "data": {
      "image/png": "[encoded data removed]",
      "text/plain": [
       "<Figure size 432x288 with 1 Axes>"
      ]
     },
     "metadata": {
      "needs_background": "light"
     },
     "output_type": "display_data"
    }
   ],
   "source": [
    "# 앞서 구한 기울기와 절편을 이용해 그래프 그리기\n",
    "x_data = [i[0] for i in data]\n",
    "y_data = [i[1] for i in data]\n",
    "\n",
    "\n",
    "plt.scatter(x_data, y_data)\n",
    "plt.xlim(0, 15)\n",
    "plt.ylim(-.1, 1.1)\n",
    "x_range = (np.arange(0, 15, 0.1)) # 그래프로 나타낼 x 값의 범위 정하기\n",
    "plt.plot(np.arange(0, 15, 0.1), np.array([sigmoid(a * x + b) for x in x_range]))\n",
    "plt.show()"
   ]
  },
  {
   "cell_type": "code",
   "execution_count": null,
   "id": "1efdc863",
   "metadata": {},
   "outputs": [],
   "source": []
  },
  {
   "cell_type": "code",
   "execution_count": null,
   "id": "86c1db21",
   "metadata": {},
   "outputs": [],
   "source": []
  }
 ],
 "metadata": {
  "kernelspec": {
   "display_name": "Python 3",
   "language": "python",
   "name": "python3"
  },
  "language_info": {
   "codemirror_mode": {
    "name": "ipython",
    "version": 3
   },
   "file_extension": ".py",
   "mimetype": "text/x-python",
   "name": "python",
   "nbconvert_exporter": "python",
   "pygments_lexer": "ipython3",
   "version": "3.8.8"
  }
 },
 "nbformat": 4,
 "nbformat_minor": 5
}
